{
 "cells": [
  {
   "cell_type": "markdown",
   "metadata": {},
   "source": [
    "Two version:\n",
    "A sample:\n",
    "A hypothesis:\n",
    "Outcomes:\n",
    "Measureble variables:"
   ]
  },
  {
   "cell_type": "markdown",
   "metadata": {},
   "source": [
    "<b>1)Does a new supplement help people sleep better?"
   ]
  },
  {
   "cell_type": "markdown",
   "metadata": {},
   "source": [
    "We picked up people who have sleep disorders and split people into two different groups: group1 for control group 2 for test.And we gave the new supplement to group2. Our hypothesis is on that we expect test group will sleep better. And also we can measure their heart rate when they are sleeping and compare the other groups. If we  know about the people's age, gender; smoke usage, and caffeine usage so we can come up with an estimation on our new supplement.The key metrics are sleeping hours and quality depends on heart rate and etc."
   ]
  },
  {
   "cell_type": "markdown",
   "metadata": {},
   "source": [
    "<b>2)Will new uniforms help a gym's business?"
   ]
  },
  {
   "cell_type": "markdown",
   "metadata": {},
   "source": [
    "We can compare two branches of one gym saloon and we can try as a  one is control other is testing group. First group doesn't wear uniform but others wear uniform. And we assume uniform will effect the business because it looks professinal.In here the key metrics is number of subscribers. We expect an increase on the client at the branches which wear uniform. Also income level and season (after summer or before summer) parameters effect subscriber data."
   ]
  },
  {
   "cell_type": "markdown",
   "metadata": {},
   "source": [
    "<b>3)Will a new homepage improve my online exotic pet rental business?"
   ]
  },
  {
   "cell_type": "markdown",
   "metadata": {},
   "source": []
  },
  {
   "cell_type": "markdown",
   "metadata": {},
   "source": [
    "<b>4)If I put 'please read' in the email subject will more people read my emails?"
   ]
  },
  {
   "cell_type": "markdown",
   "metadata": {},
   "source": [
    "We can create two group of people first is the working same fiel with me the other one is random people.  Both group send random email for each group, and reply emails with the key metrics in here. we can see people who care didn't know the people who is he/she put 'please read' or who is related with each other. I will expect who are the same industry read and reply."
   ]
  }
 ],
 "metadata": {
  "kernelspec": {
   "display_name": "Python 3",
   "language": "python",
   "name": "python3"
  },
  "language_info": {
   "codemirror_mode": {
    "name": "ipython",
    "version": 3
   },
   "file_extension": ".py",
   "mimetype": "text/x-python",
   "name": "python",
   "nbconvert_exporter": "python",
   "pygments_lexer": "ipython3",
   "version": "3.7.0"
  }
 },
 "nbformat": 4,
 "nbformat_minor": 2
}
